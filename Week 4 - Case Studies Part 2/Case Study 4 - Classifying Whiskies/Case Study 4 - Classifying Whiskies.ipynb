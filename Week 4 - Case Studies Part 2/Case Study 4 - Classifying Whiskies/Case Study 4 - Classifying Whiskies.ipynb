{
 "cells": [
  {
   "cell_type": "markdown",
   "metadata": {},
   "source": [
    "# Introduction to Pandas"
   ]
  },
  {
   "cell_type": "code",
   "execution_count": 1,
   "metadata": {},
   "outputs": [],
   "source": [
    "import pandas as pd"
   ]
  },
  {
   "cell_type": "code",
   "execution_count": 2,
   "metadata": {},
   "outputs": [],
   "source": [
    "# This is how you create a series in pandas, a 1-dimensional array\n",
    "x = pd.Series([6,3,8,6])"
   ]
  },
  {
   "cell_type": "code",
   "execution_count": 3,
   "metadata": {},
   "outputs": [
    {
     "data": {
      "text/plain": [
       "0    6\n",
       "1    3\n",
       "2    8\n",
       "3    6\n",
       "dtype: int64"
      ]
     },
     "execution_count": 3,
     "metadata": {},
     "output_type": "execute_result"
    }
   ],
   "source": [
    "x"
   ]
  },
  {
   "cell_type": "code",
   "execution_count": 4,
   "metadata": {},
   "outputs": [],
   "source": [
    "# The above example uses the default indices, but we can also specify it\n",
    "x = pd.Series([6,3,8,6], index=[\"q\",\"w\",\"e\",\"r\"])"
   ]
  },
  {
   "cell_type": "code",
   "execution_count": 5,
   "metadata": {},
   "outputs": [
    {
     "data": {
      "text/plain": [
       "q    6\n",
       "w    3\n",
       "e    8\n",
       "r    6\n",
       "dtype: int64"
      ]
     },
     "execution_count": 5,
     "metadata": {},
     "output_type": "execute_result"
    }
   ],
   "source": [
    "x"
   ]
  },
  {
   "cell_type": "code",
   "execution_count": 6,
   "metadata": {},
   "outputs": [
    {
     "data": {
      "text/plain": [
       "3"
      ]
     },
     "execution_count": 6,
     "metadata": {},
     "output_type": "execute_result"
    }
   ],
   "source": [
    "x[\"w\"]"
   ]
  },
  {
   "cell_type": "code",
   "execution_count": 7,
   "metadata": {},
   "outputs": [
    {
     "data": {
      "text/plain": [
       "r    6\n",
       "w    3\n",
       "dtype: int64"
      ]
     },
     "execution_count": 7,
     "metadata": {},
     "output_type": "execute_result"
    }
   ],
   "source": [
    "x[[\"r\",\"w\"]]"
   ]
  },
  {
   "cell_type": "code",
   "execution_count": 9,
   "metadata": {},
   "outputs": [
    {
     "data": {
      "text/plain": [
       "Tim    29\n",
       "Jim    31\n",
       "Pam    27\n",
       "Sam    35\n",
       "dtype: int64"
      ]
     },
     "execution_count": 9,
     "metadata": {},
     "output_type": "execute_result"
    }
   ],
   "source": [
    "# We can also pass in a dictionary as a series, and the keys becomes the indices\n",
    "age = {\"Tim\":29,\"Jim\":31,\"Pam\":27,\"Sam\":35}\n",
    "y = pd.Series(age)\n",
    "y"
   ]
  },
  {
   "cell_type": "code",
   "execution_count": 12,
   "metadata": {},
   "outputs": [
    {
     "data": {
      "text/html": [
       "<div>\n",
       "<style scoped>\n",
       "    .dataframe tbody tr th:only-of-type {\n",
       "        vertical-align: middle;\n",
       "    }\n",
       "\n",
       "    .dataframe tbody tr th {\n",
       "        vertical-align: top;\n",
       "    }\n",
       "\n",
       "    .dataframe thead th {\n",
       "        text-align: right;\n",
       "    }\n",
       "</style>\n",
       "<table border=\"1\" class=\"dataframe\">\n",
       "  <thead>\n",
       "    <tr style=\"text-align: right;\">\n",
       "      <th></th>\n",
       "      <th>name</th>\n",
       "      <th>age</th>\n",
       "      <th>zip</th>\n",
       "    </tr>\n",
       "  </thead>\n",
       "  <tbody>\n",
       "    <tr>\n",
       "      <th>0</th>\n",
       "      <td>Tim</td>\n",
       "      <td>29</td>\n",
       "      <td>02115</td>\n",
       "    </tr>\n",
       "    <tr>\n",
       "      <th>1</th>\n",
       "      <td>Jim</td>\n",
       "      <td>31</td>\n",
       "      <td>02130</td>\n",
       "    </tr>\n",
       "    <tr>\n",
       "      <th>2</th>\n",
       "      <td>Pam</td>\n",
       "      <td>27</td>\n",
       "      <td>67700</td>\n",
       "    </tr>\n",
       "    <tr>\n",
       "      <th>3</th>\n",
       "      <td>Sam</td>\n",
       "      <td>35</td>\n",
       "      <td>00100</td>\n",
       "    </tr>\n",
       "  </tbody>\n",
       "</table>\n",
       "</div>"
      ],
      "text/plain": [
       "  name  age    zip\n",
       "0  Tim   29  02115\n",
       "1  Jim   31  02130\n",
       "2  Pam   27  67700\n",
       "3  Sam   35  00100"
      ]
     },
     "execution_count": 12,
     "metadata": {},
     "output_type": "execute_result"
    }
   ],
   "source": [
    "# We can also do this with data frames, a 2d array. \n",
    "data = {\"name\" : [\"Tim\",\"Jim\",\"Pam\",\"Sam\"],\n",
    "        \"age\": [29,31,27,35],\n",
    "        \"zip\" : [\"02115\",\"02130\",\"67700\",\"00100\"]}\n",
    "z = pd.DataFrame(data, columns=[\"name\",\"age\",\"zip\"])\n",
    "z"
   ]
  },
  {
   "cell_type": "code",
   "execution_count": 14,
   "metadata": {},
   "outputs": [
    {
     "data": {
      "text/plain": [
       "0    Tim\n",
       "1    Jim\n",
       "2    Pam\n",
       "3    Sam\n",
       "Name: name, dtype: object"
      ]
     },
     "execution_count": 14,
     "metadata": {},
     "output_type": "execute_result"
    }
   ],
   "source": [
    "z[\"name\"]"
   ]
  },
  {
   "cell_type": "code",
   "execution_count": 15,
   "metadata": {},
   "outputs": [
    {
     "data": {
      "text/plain": [
       "0    Tim\n",
       "1    Jim\n",
       "2    Pam\n",
       "3    Sam\n",
       "Name: name, dtype: object"
      ]
     },
     "execution_count": 15,
     "metadata": {},
     "output_type": "execute_result"
    }
   ],
   "source": [
    "z.name"
   ]
  },
  {
   "cell_type": "code",
   "execution_count": 21,
   "metadata": {},
   "outputs": [
    {
     "data": {
      "text/plain": [
       "e    8\n",
       "q    6\n",
       "r    6\n",
       "w    3\n",
       "dtype: int64"
      ]
     },
     "execution_count": 21,
     "metadata": {},
     "output_type": "execute_result"
    }
   ],
   "source": [
    "# We can change the index of an object.\n",
    "x = pd.Series([6,3,8,6], index=[\"q\",\"w\",\"e\",\"r\"])\n",
    "# We then create a new list, which consists of the previous index, but sorted. \n",
    "x.reindex(sorted(x.index))"
   ]
  },
  {
   "cell_type": "code",
   "execution_count": 23,
   "metadata": {},
   "outputs": [
    {
     "name": "stdout",
     "output_type": "stream",
     "text": [
      "q    6\n",
      "w    3\n",
      "e    8\n",
      "r    6\n",
      "dtype: int64\n",
      "e    7\n",
      "q    3\n",
      "r    5\n",
      "t    2\n",
      "dtype: int64\n",
      "e    15.0\n",
      "q     9.0\n",
      "r    11.0\n",
      "t     NaN\n",
      "w     NaN\n",
      "dtype: float64\n"
     ]
    }
   ],
   "source": [
    "# we can add data frames, but if the indices do not match, then it will produce a NaN\n",
    "x = pd.Series([6,3,8,6], index=[\"q\",\"w\",\"e\",\"r\"])\n",
    "y = pd.Series([7,3,5,2], index=[\"e\",\"q\",\"r\",\"t\"])\n",
    "print(x)\n",
    "print(y)\n",
    "print(x+y)"
   ]
  },
  {
   "cell_type": "markdown",
   "metadata": {},
   "source": [
    "# Importing and Inspecting Data"
   ]
  },
  {
   "cell_type": "code",
   "execution_count": 24,
   "metadata": {},
   "outputs": [],
   "source": [
    "import numpy as np\n",
    "import pandas as pd"
   ]
  },
  {
   "cell_type": "code",
   "execution_count": 52,
   "metadata": {},
   "outputs": [
    {
     "data": {
      "text/html": [
       "<div>\n",
       "<style scoped>\n",
       "    .dataframe tbody tr th:only-of-type {\n",
       "        vertical-align: middle;\n",
       "    }\n",
       "\n",
       "    .dataframe tbody tr th {\n",
       "        vertical-align: top;\n",
       "    }\n",
       "\n",
       "    .dataframe thead th {\n",
       "        text-align: right;\n",
       "    }\n",
       "</style>\n",
       "<table border=\"1\" class=\"dataframe\">\n",
       "  <thead>\n",
       "    <tr style=\"text-align: right;\">\n",
       "      <th></th>\n",
       "      <th>RowID</th>\n",
       "      <th>Distillery</th>\n",
       "      <th>Body</th>\n",
       "      <th>Sweetness</th>\n",
       "      <th>Smoky</th>\n",
       "    </tr>\n",
       "  </thead>\n",
       "  <tbody>\n",
       "    <tr>\n",
       "      <th>5</th>\n",
       "      <td>6</td>\n",
       "      <td>ArranIsleOf</td>\n",
       "      <td>2</td>\n",
       "      <td>3</td>\n",
       "      <td>1</td>\n",
       "    </tr>\n",
       "    <tr>\n",
       "      <th>6</th>\n",
       "      <td>7</td>\n",
       "      <td>Auchentoshan</td>\n",
       "      <td>0</td>\n",
       "      <td>2</td>\n",
       "      <td>0</td>\n",
       "    </tr>\n",
       "    <tr>\n",
       "      <th>7</th>\n",
       "      <td>8</td>\n",
       "      <td>Auchroisk</td>\n",
       "      <td>2</td>\n",
       "      <td>3</td>\n",
       "      <td>1</td>\n",
       "    </tr>\n",
       "    <tr>\n",
       "      <th>8</th>\n",
       "      <td>9</td>\n",
       "      <td>Aultmore</td>\n",
       "      <td>2</td>\n",
       "      <td>2</td>\n",
       "      <td>1</td>\n",
       "    </tr>\n",
       "    <tr>\n",
       "      <th>9</th>\n",
       "      <td>10</td>\n",
       "      <td>Balblair</td>\n",
       "      <td>2</td>\n",
       "      <td>3</td>\n",
       "      <td>2</td>\n",
       "    </tr>\n",
       "  </tbody>\n",
       "</table>\n",
       "</div>"
      ],
      "text/plain": [
       "   RowID    Distillery  Body  Sweetness  Smoky\n",
       "5      6   ArranIsleOf     2          3      1\n",
       "6      7  Auchentoshan     0          2      0\n",
       "7      8     Auchroisk     2          3      1\n",
       "8      9      Aultmore     2          2      1\n",
       "9     10      Balblair     2          3      2"
      ]
     },
     "execution_count": 52,
     "metadata": {},
     "output_type": "execute_result"
    }
   ],
   "source": [
    "# First we load in the data on whiskies (note that a .txt can be loaded as a csv)\n",
    "whisky = pd.read_csv(\"whiskies.txt\")\n",
    "# Then we take the regions file, and load it into the whiskies dataframe as a new column\n",
    "whisky[\"Region\"] = pd.read_csv(\"regions.txt\")\n",
    "# We then examine the data, and it appears to be loaded correctly\n",
    "whisky.head()\n",
    "whisky.tail()\n",
    "# The iloc method can index a data frame by location\n",
    "# This reads the rows from 0 to 10, which works in the same way as string slicing:\n",
    "whisky.iloc[0:10]\n",
    "# This reads the the rows from 5:10, and the columns from 0:5.\n",
    "whisky.iloc[5:10,0:5]"
   ]
  },
  {
   "cell_type": "code",
   "execution_count": 53,
   "metadata": {},
   "outputs": [
    {
     "name": "stdout",
     "output_type": "stream",
     "text": [
      "Index(['RowID', 'Distillery', 'Body', 'Sweetness', 'Smoky', 'Medicinal',\n",
      "       'Tobacco', 'Honey', 'Spicy', 'Winey', 'Nutty', 'Malty', 'Fruity',\n",
      "       'Floral', 'Postcode', ' Latitude', ' Longitude', 'Region'],\n",
      "      dtype='object')\n"
     ]
    },
    {
     "data": {
      "text/html": [
       "<div>\n",
       "<style scoped>\n",
       "    .dataframe tbody tr th:only-of-type {\n",
       "        vertical-align: middle;\n",
       "    }\n",
       "\n",
       "    .dataframe tbody tr th {\n",
       "        vertical-align: top;\n",
       "    }\n",
       "\n",
       "    .dataframe thead th {\n",
       "        text-align: right;\n",
       "    }\n",
       "</style>\n",
       "<table border=\"1\" class=\"dataframe\">\n",
       "  <thead>\n",
       "    <tr style=\"text-align: right;\">\n",
       "      <th></th>\n",
       "      <th>Body</th>\n",
       "      <th>Sweetness</th>\n",
       "      <th>Smoky</th>\n",
       "      <th>Medicinal</th>\n",
       "      <th>Tobacco</th>\n",
       "      <th>Honey</th>\n",
       "      <th>Spicy</th>\n",
       "      <th>Winey</th>\n",
       "      <th>Nutty</th>\n",
       "      <th>Malty</th>\n",
       "      <th>Fruity</th>\n",
       "      <th>Floral</th>\n",
       "    </tr>\n",
       "  </thead>\n",
       "  <tbody>\n",
       "    <tr>\n",
       "      <th>0</th>\n",
       "      <td>2</td>\n",
       "      <td>2</td>\n",
       "      <td>2</td>\n",
       "      <td>0</td>\n",
       "      <td>0</td>\n",
       "      <td>2</td>\n",
       "      <td>1</td>\n",
       "      <td>2</td>\n",
       "      <td>2</td>\n",
       "      <td>2</td>\n",
       "      <td>2</td>\n",
       "      <td>2</td>\n",
       "    </tr>\n",
       "    <tr>\n",
       "      <th>1</th>\n",
       "      <td>3</td>\n",
       "      <td>3</td>\n",
       "      <td>1</td>\n",
       "      <td>0</td>\n",
       "      <td>0</td>\n",
       "      <td>4</td>\n",
       "      <td>3</td>\n",
       "      <td>2</td>\n",
       "      <td>2</td>\n",
       "      <td>3</td>\n",
       "      <td>3</td>\n",
       "      <td>2</td>\n",
       "    </tr>\n",
       "    <tr>\n",
       "      <th>2</th>\n",
       "      <td>1</td>\n",
       "      <td>3</td>\n",
       "      <td>2</td>\n",
       "      <td>0</td>\n",
       "      <td>0</td>\n",
       "      <td>2</td>\n",
       "      <td>0</td>\n",
       "      <td>0</td>\n",
       "      <td>2</td>\n",
       "      <td>2</td>\n",
       "      <td>3</td>\n",
       "      <td>2</td>\n",
       "    </tr>\n",
       "    <tr>\n",
       "      <th>3</th>\n",
       "      <td>4</td>\n",
       "      <td>1</td>\n",
       "      <td>4</td>\n",
       "      <td>4</td>\n",
       "      <td>0</td>\n",
       "      <td>0</td>\n",
       "      <td>2</td>\n",
       "      <td>0</td>\n",
       "      <td>1</td>\n",
       "      <td>2</td>\n",
       "      <td>1</td>\n",
       "      <td>0</td>\n",
       "    </tr>\n",
       "    <tr>\n",
       "      <th>4</th>\n",
       "      <td>2</td>\n",
       "      <td>2</td>\n",
       "      <td>2</td>\n",
       "      <td>0</td>\n",
       "      <td>0</td>\n",
       "      <td>1</td>\n",
       "      <td>1</td>\n",
       "      <td>1</td>\n",
       "      <td>2</td>\n",
       "      <td>3</td>\n",
       "      <td>1</td>\n",
       "      <td>1</td>\n",
       "    </tr>\n",
       "    <tr>\n",
       "      <th>...</th>\n",
       "      <td>...</td>\n",
       "      <td>...</td>\n",
       "      <td>...</td>\n",
       "      <td>...</td>\n",
       "      <td>...</td>\n",
       "      <td>...</td>\n",
       "      <td>...</td>\n",
       "      <td>...</td>\n",
       "      <td>...</td>\n",
       "      <td>...</td>\n",
       "      <td>...</td>\n",
       "      <td>...</td>\n",
       "    </tr>\n",
       "    <tr>\n",
       "      <th>81</th>\n",
       "      <td>1</td>\n",
       "      <td>1</td>\n",
       "      <td>1</td>\n",
       "      <td>0</td>\n",
       "      <td>0</td>\n",
       "      <td>1</td>\n",
       "      <td>0</td>\n",
       "      <td>0</td>\n",
       "      <td>1</td>\n",
       "      <td>2</td>\n",
       "      <td>2</td>\n",
       "      <td>2</td>\n",
       "    </tr>\n",
       "    <tr>\n",
       "      <th>82</th>\n",
       "      <td>2</td>\n",
       "      <td>3</td>\n",
       "      <td>2</td>\n",
       "      <td>0</td>\n",
       "      <td>0</td>\n",
       "      <td>2</td>\n",
       "      <td>2</td>\n",
       "      <td>1</td>\n",
       "      <td>1</td>\n",
       "      <td>2</td>\n",
       "      <td>0</td>\n",
       "      <td>1</td>\n",
       "    </tr>\n",
       "    <tr>\n",
       "      <th>83</th>\n",
       "      <td>0</td>\n",
       "      <td>3</td>\n",
       "      <td>1</td>\n",
       "      <td>0</td>\n",
       "      <td>0</td>\n",
       "      <td>2</td>\n",
       "      <td>2</td>\n",
       "      <td>1</td>\n",
       "      <td>1</td>\n",
       "      <td>2</td>\n",
       "      <td>1</td>\n",
       "      <td>2</td>\n",
       "    </tr>\n",
       "    <tr>\n",
       "      <th>84</th>\n",
       "      <td>2</td>\n",
       "      <td>2</td>\n",
       "      <td>1</td>\n",
       "      <td>0</td>\n",
       "      <td>0</td>\n",
       "      <td>1</td>\n",
       "      <td>0</td>\n",
       "      <td>1</td>\n",
       "      <td>2</td>\n",
       "      <td>1</td>\n",
       "      <td>0</td>\n",
       "      <td>0</td>\n",
       "    </tr>\n",
       "    <tr>\n",
       "      <th>85</th>\n",
       "      <td>2</td>\n",
       "      <td>3</td>\n",
       "      <td>0</td>\n",
       "      <td>0</td>\n",
       "      <td>1</td>\n",
       "      <td>0</td>\n",
       "      <td>2</td>\n",
       "      <td>1</td>\n",
       "      <td>1</td>\n",
       "      <td>2</td>\n",
       "      <td>2</td>\n",
       "      <td>1</td>\n",
       "    </tr>\n",
       "  </tbody>\n",
       "</table>\n",
       "<p>86 rows × 12 columns</p>\n",
       "</div>"
      ],
      "text/plain": [
       "    Body  Sweetness  Smoky  Medicinal  Tobacco  Honey  Spicy  Winey  Nutty  \\\n",
       "0      2          2      2          0        0      2      1      2      2   \n",
       "1      3          3      1          0        0      4      3      2      2   \n",
       "2      1          3      2          0        0      2      0      0      2   \n",
       "3      4          1      4          4        0      0      2      0      1   \n",
       "4      2          2      2          0        0      1      1      1      2   \n",
       "..   ...        ...    ...        ...      ...    ...    ...    ...    ...   \n",
       "81     1          1      1          0        0      1      0      0      1   \n",
       "82     2          3      2          0        0      2      2      1      1   \n",
       "83     0          3      1          0        0      2      2      1      1   \n",
       "84     2          2      1          0        0      1      0      1      2   \n",
       "85     2          3      0          0        1      0      2      1      1   \n",
       "\n",
       "    Malty  Fruity  Floral  \n",
       "0       2       2       2  \n",
       "1       3       3       2  \n",
       "2       2       3       2  \n",
       "3       2       1       0  \n",
       "4       3       1       1  \n",
       "..    ...     ...     ...  \n",
       "81      2       2       2  \n",
       "82      2       0       1  \n",
       "83      2       1       2  \n",
       "84      1       0       0  \n",
       "85      2       2       1  \n",
       "\n",
       "[86 rows x 12 columns]"
      ]
     },
     "execution_count": 53,
     "metadata": {},
     "output_type": "execute_result"
    }
   ],
   "source": [
    "# This lists all of the column names, and we can use this to target the columns about flavors.\n",
    "print(whisky.columns)\n",
    "flavors = whisky.iloc[:,2:14]\n",
    "flavors"
   ]
  },
  {
   "cell_type": "markdown",
   "metadata": {},
   "source": [
    "# Exploring Correlations"
   ]
  },
  {
   "cell_type": "code",
   "execution_count": 54,
   "metadata": {},
   "outputs": [
    {
     "data": {
      "text/html": [
       "<div>\n",
       "<style scoped>\n",
       "    .dataframe tbody tr th:only-of-type {\n",
       "        vertical-align: middle;\n",
       "    }\n",
       "\n",
       "    .dataframe tbody tr th {\n",
       "        vertical-align: top;\n",
       "    }\n",
       "\n",
       "    .dataframe thead th {\n",
       "        text-align: right;\n",
       "    }\n",
       "</style>\n",
       "<table border=\"1\" class=\"dataframe\">\n",
       "  <thead>\n",
       "    <tr style=\"text-align: right;\">\n",
       "      <th></th>\n",
       "      <th>Body</th>\n",
       "      <th>Sweetness</th>\n",
       "      <th>Smoky</th>\n",
       "      <th>Medicinal</th>\n",
       "      <th>Tobacco</th>\n",
       "      <th>Honey</th>\n",
       "      <th>Spicy</th>\n",
       "      <th>Winey</th>\n",
       "      <th>Nutty</th>\n",
       "      <th>Malty</th>\n",
       "      <th>Fruity</th>\n",
       "      <th>Floral</th>\n",
       "    </tr>\n",
       "  </thead>\n",
       "  <tbody>\n",
       "    <tr>\n",
       "      <th>Body</th>\n",
       "      <td>1.000000</td>\n",
       "      <td>-0.136518</td>\n",
       "      <td>0.524032</td>\n",
       "      <td>0.354050</td>\n",
       "      <td>0.168718</td>\n",
       "      <td>0.082031</td>\n",
       "      <td>0.188500</td>\n",
       "      <td>0.408576</td>\n",
       "      <td>0.126323</td>\n",
       "      <td>-0.116859</td>\n",
       "      <td>-0.013205</td>\n",
       "      <td>-0.461203</td>\n",
       "    </tr>\n",
       "    <tr>\n",
       "      <th>Sweetness</th>\n",
       "      <td>-0.136518</td>\n",
       "      <td>1.000000</td>\n",
       "      <td>-0.405897</td>\n",
       "      <td>-0.392017</td>\n",
       "      <td>-0.147871</td>\n",
       "      <td>0.132558</td>\n",
       "      <td>-0.054200</td>\n",
       "      <td>0.115727</td>\n",
       "      <td>-0.032493</td>\n",
       "      <td>-0.001516</td>\n",
       "      <td>0.019820</td>\n",
       "      <td>0.144987</td>\n",
       "    </tr>\n",
       "    <tr>\n",
       "      <th>Smoky</th>\n",
       "      <td>0.524032</td>\n",
       "      <td>-0.405897</td>\n",
       "      <td>1.000000</td>\n",
       "      <td>0.686071</td>\n",
       "      <td>0.365501</td>\n",
       "      <td>-0.195318</td>\n",
       "      <td>0.231745</td>\n",
       "      <td>-0.028190</td>\n",
       "      <td>-0.023132</td>\n",
       "      <td>-0.192875</td>\n",
       "      <td>-0.312970</td>\n",
       "      <td>-0.431663</td>\n",
       "    </tr>\n",
       "    <tr>\n",
       "      <th>Medicinal</th>\n",
       "      <td>0.354050</td>\n",
       "      <td>-0.392017</td>\n",
       "      <td>0.686071</td>\n",
       "      <td>1.000000</td>\n",
       "      <td>0.425106</td>\n",
       "      <td>-0.396629</td>\n",
       "      <td>0.044903</td>\n",
       "      <td>-0.202651</td>\n",
       "      <td>-0.113671</td>\n",
       "      <td>-0.258959</td>\n",
       "      <td>-0.330975</td>\n",
       "      <td>-0.511323</td>\n",
       "    </tr>\n",
       "    <tr>\n",
       "      <th>Tobacco</th>\n",
       "      <td>0.168718</td>\n",
       "      <td>-0.147871</td>\n",
       "      <td>0.365501</td>\n",
       "      <td>0.425106</td>\n",
       "      <td>1.000000</td>\n",
       "      <td>-0.275490</td>\n",
       "      <td>0.054068</td>\n",
       "      <td>0.009097</td>\n",
       "      <td>-0.117717</td>\n",
       "      <td>-0.059347</td>\n",
       "      <td>-0.235145</td>\n",
       "      <td>-0.212375</td>\n",
       "    </tr>\n",
       "    <tr>\n",
       "      <th>Honey</th>\n",
       "      <td>0.082031</td>\n",
       "      <td>0.132558</td>\n",
       "      <td>-0.195318</td>\n",
       "      <td>-0.396629</td>\n",
       "      <td>-0.275490</td>\n",
       "      <td>1.000000</td>\n",
       "      <td>0.139563</td>\n",
       "      <td>0.362021</td>\n",
       "      <td>0.188492</td>\n",
       "      <td>0.310184</td>\n",
       "      <td>0.108822</td>\n",
       "      <td>0.183029</td>\n",
       "    </tr>\n",
       "    <tr>\n",
       "      <th>Spicy</th>\n",
       "      <td>0.188500</td>\n",
       "      <td>-0.054200</td>\n",
       "      <td>0.231745</td>\n",
       "      <td>0.044903</td>\n",
       "      <td>0.054068</td>\n",
       "      <td>0.139563</td>\n",
       "      <td>1.000000</td>\n",
       "      <td>0.092704</td>\n",
       "      <td>-0.042856</td>\n",
       "      <td>0.036303</td>\n",
       "      <td>0.144714</td>\n",
       "      <td>0.034663</td>\n",
       "    </tr>\n",
       "    <tr>\n",
       "      <th>Winey</th>\n",
       "      <td>0.408576</td>\n",
       "      <td>0.115727</td>\n",
       "      <td>-0.028190</td>\n",
       "      <td>-0.202651</td>\n",
       "      <td>0.009097</td>\n",
       "      <td>0.362021</td>\n",
       "      <td>0.092704</td>\n",
       "      <td>1.000000</td>\n",
       "      <td>0.198467</td>\n",
       "      <td>0.112368</td>\n",
       "      <td>0.090694</td>\n",
       "      <td>-0.126932</td>\n",
       "    </tr>\n",
       "    <tr>\n",
       "      <th>Nutty</th>\n",
       "      <td>0.126323</td>\n",
       "      <td>-0.032493</td>\n",
       "      <td>-0.023132</td>\n",
       "      <td>-0.113671</td>\n",
       "      <td>-0.117717</td>\n",
       "      <td>0.188492</td>\n",
       "      <td>-0.042856</td>\n",
       "      <td>0.198467</td>\n",
       "      <td>1.000000</td>\n",
       "      <td>0.066157</td>\n",
       "      <td>0.071765</td>\n",
       "      <td>0.018302</td>\n",
       "    </tr>\n",
       "    <tr>\n",
       "      <th>Malty</th>\n",
       "      <td>-0.116859</td>\n",
       "      <td>-0.001516</td>\n",
       "      <td>-0.192875</td>\n",
       "      <td>-0.258959</td>\n",
       "      <td>-0.059347</td>\n",
       "      <td>0.310184</td>\n",
       "      <td>0.036303</td>\n",
       "      <td>0.112368</td>\n",
       "      <td>0.066157</td>\n",
       "      <td>1.000000</td>\n",
       "      <td>0.207288</td>\n",
       "      <td>0.106309</td>\n",
       "    </tr>\n",
       "    <tr>\n",
       "      <th>Fruity</th>\n",
       "      <td>-0.013205</td>\n",
       "      <td>0.019820</td>\n",
       "      <td>-0.312970</td>\n",
       "      <td>-0.330975</td>\n",
       "      <td>-0.235145</td>\n",
       "      <td>0.108822</td>\n",
       "      <td>0.144714</td>\n",
       "      <td>0.090694</td>\n",
       "      <td>0.071765</td>\n",
       "      <td>0.207288</td>\n",
       "      <td>1.000000</td>\n",
       "      <td>0.262336</td>\n",
       "    </tr>\n",
       "    <tr>\n",
       "      <th>Floral</th>\n",
       "      <td>-0.461203</td>\n",
       "      <td>0.144987</td>\n",
       "      <td>-0.431663</td>\n",
       "      <td>-0.511323</td>\n",
       "      <td>-0.212375</td>\n",
       "      <td>0.183029</td>\n",
       "      <td>0.034663</td>\n",
       "      <td>-0.126932</td>\n",
       "      <td>0.018302</td>\n",
       "      <td>0.106309</td>\n",
       "      <td>0.262336</td>\n",
       "      <td>1.000000</td>\n",
       "    </tr>\n",
       "  </tbody>\n",
       "</table>\n",
       "</div>"
      ],
      "text/plain": [
       "               Body  Sweetness     Smoky  Medicinal   Tobacco     Honey  \\\n",
       "Body       1.000000  -0.136518  0.524032   0.354050  0.168718  0.082031   \n",
       "Sweetness -0.136518   1.000000 -0.405897  -0.392017 -0.147871  0.132558   \n",
       "Smoky      0.524032  -0.405897  1.000000   0.686071  0.365501 -0.195318   \n",
       "Medicinal  0.354050  -0.392017  0.686071   1.000000  0.425106 -0.396629   \n",
       "Tobacco    0.168718  -0.147871  0.365501   0.425106  1.000000 -0.275490   \n",
       "Honey      0.082031   0.132558 -0.195318  -0.396629 -0.275490  1.000000   \n",
       "Spicy      0.188500  -0.054200  0.231745   0.044903  0.054068  0.139563   \n",
       "Winey      0.408576   0.115727 -0.028190  -0.202651  0.009097  0.362021   \n",
       "Nutty      0.126323  -0.032493 -0.023132  -0.113671 -0.117717  0.188492   \n",
       "Malty     -0.116859  -0.001516 -0.192875  -0.258959 -0.059347  0.310184   \n",
       "Fruity    -0.013205   0.019820 -0.312970  -0.330975 -0.235145  0.108822   \n",
       "Floral    -0.461203   0.144987 -0.431663  -0.511323 -0.212375  0.183029   \n",
       "\n",
       "              Spicy     Winey     Nutty     Malty    Fruity    Floral  \n",
       "Body       0.188500  0.408576  0.126323 -0.116859 -0.013205 -0.461203  \n",
       "Sweetness -0.054200  0.115727 -0.032493 -0.001516  0.019820  0.144987  \n",
       "Smoky      0.231745 -0.028190 -0.023132 -0.192875 -0.312970 -0.431663  \n",
       "Medicinal  0.044903 -0.202651 -0.113671 -0.258959 -0.330975 -0.511323  \n",
       "Tobacco    0.054068  0.009097 -0.117717 -0.059347 -0.235145 -0.212375  \n",
       "Honey      0.139563  0.362021  0.188492  0.310184  0.108822  0.183029  \n",
       "Spicy      1.000000  0.092704 -0.042856  0.036303  0.144714  0.034663  \n",
       "Winey      0.092704  1.000000  0.198467  0.112368  0.090694 -0.126932  \n",
       "Nutty     -0.042856  0.198467  1.000000  0.066157  0.071765  0.018302  \n",
       "Malty      0.036303  0.112368  0.066157  1.000000  0.207288  0.106309  \n",
       "Fruity     0.144714  0.090694  0.071765  0.207288  1.000000  0.262336  \n",
       "Floral     0.034663 -0.126932  0.018302  0.106309  0.262336  1.000000  "
      ]
     },
     "execution_count": 54,
     "metadata": {},
     "output_type": "execute_result"
    },
    {
     "data": {
      "image/png": "[encoded data removed]",
      "text/plain": [
       "<Figure size 720x720 with 2 Axes>"
      ]
     },
     "metadata": {
      "needs_background": "light"
     },
     "output_type": "display_data"
    }
   ],
   "source": [
    "# We first create an object which has all the correlations between flavors\n",
    "corr_flavors = pd.DataFrame.corr(flavors)\n",
    "# Then we import matplotlib, and use this to plot it\n",
    "import matplotlib.pyplot as plt\n",
    "plt.figure(figsize = (10,10))\n",
    "plt.pcolor(corr_flavors)\n",
    "plt.colorbar()\n",
    "plt.savefig(\"corr_flavors.pdf\")\n",
    "corr_flavors"
   ]
  },
  {
   "cell_type": "code",
   "execution_count": 55,
   "metadata": {},
   "outputs": [
    {
     "data": {
      "image/png": "[encoded data removed]",
      "text/plain": [
       "<Figure size 720x720 with 2 Axes>"
      ]
     },
     "metadata": {
      "needs_background": "light"
     },
     "output_type": "display_data"
    }
   ],
   "source": [
    "# Next we will look at the correlation among whiskies across flavors\n",
    "# To do this, we will need to transpose the data\n",
    "corr_whisky = pd.DataFrame.corr(flavors.transpose())\n",
    "plt.figure(figsize = (10,10))\n",
    "plt.pcolor(corr_whisky)\n",
    "# We add this to avoid blank space in the rows\n",
    "plt.axis(\"tight\")\n",
    "plt.colorbar()\n",
    "plt.savefig(\"corr_whisky.pdf\")"
   ]
  },
  {
   "cell_type": "markdown",
   "metadata": {},
   "source": [
    "# Clustering Whiskies by Flavor Profile"
   ]
  },
  {
   "cell_type": "code",
   "execution_count": 56,
   "metadata": {},
   "outputs": [],
   "source": [
    "# We want to perform spectral co-clustering, which puts objects (in this case whiskies) into groups based on\n",
    "# how often another thing (in this case flavors) occurs within it. \n",
    "# To do this, we first need to manipulate the dataset using an adjacency matrix, where the rows correspond to\n",
    "# flavors and the columns correspond to whiskys.\n",
    "# Since the whiskys come from 6 regions, we will ask for 6 clusters."
   ]
  },
  {
   "cell_type": "code",
   "execution_count": 57,
   "metadata": {},
   "outputs": [],
   "source": [
    "from sklearn.cluster import SpectralCoclustering"
   ]
  },
  {
   "cell_type": "code",
   "execution_count": 58,
   "metadata": {},
   "outputs": [
    {
     "name": "stdout",
     "output_type": "stream",
     "text": [
      "[ 5 20 19  6 19 17]\n",
      "[1 1 1 1 1 1 1 1 1 1 1 1 1 1 1 1 1 1 1 1 1 1 1 1 1 1 1 1 1 1 1 1 1 1 1 1 1\n",
      " 1 1 1 1 1 1 1 1 1 1 1 1 1 1 1 1 1 1 1 1 1 1 1 1 1 1 1 1 1 1 1 1 1 1 1 1 1\n",
      " 1 1 1 1 1 1 1 1 1 1 1 1]\n"
     ]
    },
    {
     "data": {
      "text/plain": [
       "array([2, 4, 5, 3, 2, 1, 5, 4, 2, 5, 4, 1, 2, 1, 2, 2, 1, 2, 1, 0, 5, 3,\n",
       "       5, 3, 5, 5, 4, 4, 5, 4, 5, 2, 1, 1, 1, 2, 4, 5, 1, 0, 1, 5, 4, 4,\n",
       "       4, 1, 2, 1, 1, 5, 5, 4, 4, 4, 1, 0, 2, 3, 3, 1, 5, 2, 4, 2, 2, 4,\n",
       "       0, 2, 0, 1, 4, 2, 1, 2, 4, 2, 5, 3, 2, 5, 1, 5, 4, 1, 4, 1])"
      ]
     },
     "execution_count": 58,
     "metadata": {},
     "output_type": "execute_result"
    }
   ],
   "source": [
    "model = SpectralCoclustering(n_clusters=6,random_state=0)\n",
    "model.fit(corr_whisky)\n",
    "# The output is grouped by cluster and each entry is a row in the correlation matrix.\n",
    "# The true/false denotes whether a row belongs to a given cluster or not, so a sum tells us how many are in each cluster.\n",
    "print(np.sum(model.rows_, axis=1))\n",
    "# We also need to check that each whisky only appears once in a cluster.\n",
    "print(np.sum(model.rows_,axis=0))\n",
    "model.row_labels_"
   ]
  },
  {
   "cell_type": "markdown",
   "metadata": {},
   "source": [
    "# Comparing Correlation Matrices"
   ]
  },
  {
   "cell_type": "code",
   "execution_count": 60,
   "metadata": {},
   "outputs": [],
   "source": [
    "# We want to draw the clusters as groups, and rename the indices to match the new sorting.\n",
    "# We first add a new row, which consists of the numeric cluster names we created in the model.\n",
    "whisky[\"Group\"] = pd.Series(model.row_labels_,index=whisky.index)\n",
    "# We then sort the dataset by this new column.\n",
    "whisky = whisky.iloc[np.argsort(model.row_labels_)]\n",
    "# Then we reset the index of the dataframe\n",
    "whisky = whisky.reset_index(drop=True)"
   ]
  },
  {
   "cell_type": "code",
   "execution_count": 63,
   "metadata": {},
   "outputs": [],
   "source": [
    "# We now want to recalculate the correlation matrix\n",
    "correlations = pd.DataFrame.corr(whisky.iloc[:,2:14].transpose())\n",
    "# This returns a dataframe, but we want a numpy array\n",
    "correlations = np.array(correlations)"
   ]
  },
  {
   "cell_type": "code",
   "execution_count": 64,
   "metadata": {},
   "outputs": [
    {
     "data": {
      "image/png": "[encoded data removed]",
      "text/plain": [
       "<Figure size 1008x504 with 2 Axes>"
      ]
     },
     "metadata": {
      "needs_background": "light"
     },
     "output_type": "display_data"
    }
   ],
   "source": [
    "# We can now compare this new, clustered correlation matrix with the original one.\n",
    "plt.figure(figsize= (14,7))\n",
    "plt.subplot(121)\n",
    "plt.pcolor(corr_whisky)\n",
    "plt.title(\"Original\")\n",
    "plt.axis(\"tight\")\n",
    "plt.subplot(122)\n",
    "plt.pcolor(correlations)\n",
    "plt.title(\"Rearranged\")\n",
    "plt.axis(\"tight\")\n",
    "plt.savefig(\"comparisons.pdf\")"
   ]
  },
  {
   "cell_type": "code",
   "execution_count": null,
   "metadata": {},
   "outputs": [],
   "source": [
    "# In the new matrix, the 6 clusters are visible on the diagonal line\n",
    "# We would therefore expect whiskies which occur in the same cluster to be similar in terms of\n",
    "# smokiness, honey flavor, and so on. "
   ]
  }
 ],
 "metadata": {
  "kernelspec": {
   "display_name": "Python 3",
   "language": "python",
   "name": "python3"
  },
  "language_info": {
   "codemirror_mode": {
    "name": "ipython",
    "version": 3
   },
   "file_extension": ".py",
   "mimetype": "text/x-python",
   "name": "python",
   "nbconvert_exporter": "python",
   "pygments_lexer": "ipython3",
   "version": "3.8.5"
  }
 },
 "nbformat": 4,
 "nbformat_minor": 4
}
